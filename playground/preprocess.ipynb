{
 "cells": [
  {
   "cell_type": "code",
   "execution_count": null,
   "metadata": {},
   "outputs": [],
   "source": [
    "import os\n",
    "\n",
    "def rename_images_in_folder(folder_path):\n",
    "    # Get a list of all files in the folder\n",
    "    files = os.listdir(folder_path)\n",
    "    \n",
    "    # Filter the list to only include .png files\n",
    "    png_files = [f for f in files if f.endswith('.png')]\n",
    "    \n",
    "    # Sort the files to maintain a consistent order\n",
    "    png_files.sort()\n",
    "    \n",
    "    # Loop through the .png files and rename them\n",
    "    for i, filename in enumerate(png_files):\n",
    "        new_name = f\"image{i+1}.png\"\n",
    "        old_path = os.path.join(folder_path, filename)\n",
    "        new_path = os.path.join(folder_path, new_name)\n",
    "        \n",
    "        os.rename(old_path, new_path)\n",
    "        print(f\"Renamed {old_path} to {new_path}\")\n",
    "\n",
    "# Usage example\n",
    "folder_path = \"inputs\"\n",
    "rename_images_in_folder(folder_path)\n"
   ]
  },
  {
   "cell_type": "code",
   "execution_count": 3,
   "metadata": {},
   "outputs": [
    {
     "name": "stdout",
     "output_type": "stream",
     "text": [
      "Contour detection and saving completed.\n"
     ]
    }
   ],
   "source": [
    "import cv2\n",
    "import os\n",
    "\n",
    "# Define paths\n",
    "input_folder = 'inputs'\n",
    "output_folder = 'outputs'\n",
    "\n",
    "# Create output folder if it doesn't exist\n",
    "if not os.path.exists(output_folder):\n",
    "    os.makedirs(output_folder)\n",
    "\n",
    "# Loop through all files in the input folder\n",
    "for filename in os.listdir(input_folder):\n",
    "    if filename.endswith(\".jpg\") or filename.endswith(\".png\"):\n",
    "        # Read the image\n",
    "        img_path = os.path.join(input_folder, filename)\n",
    "        image = cv2.imread(img_path)\n",
    "        \n",
    "        # Convert the image to grayscale\n",
    "        gray = cv2.cvtColor(image, cv2.COLOR_BGR2GRAY)\n",
    "        \n",
    "        # Apply GaussianBlur to reduce noise and improve contour detection\n",
    "        blurred = cv2.GaussianBlur(gray, (5, 5), 0)\n",
    "        \n",
    "        # Apply Canny Edge Detection\n",
    "        edges = cv2.Canny(blurred, 50, 150)\n",
    "        \n",
    "        # Find contours\n",
    "        contours, _ = cv2.findContours(edges, cv2.RETR_EXTERNAL, cv2.CHAIN_APPROX_SIMPLE)\n",
    "        \n",
    "        # Draw contours on the original image\n",
    "        cv2.drawContours(image, contours, -1, (0, 255, 0), 2)\n",
    "        \n",
    "        # Save the resultant image to the output folder\n",
    "        output_path = os.path.join(output_folder, filename)\n",
    "        cv2.imwrite(output_path, image)\n",
    "\n",
    "print(\"Contour detection and saving completed.\")\n"
   ]
  }
 ],
 "metadata": {
  "kernelspec": {
   "display_name": "Python 3",
   "language": "python",
   "name": "python3"
  },
  "language_info": {
   "codemirror_mode": {
    "name": "ipython",
    "version": 3
   },
   "file_extension": ".py",
   "mimetype": "text/x-python",
   "name": "python",
   "nbconvert_exporter": "python",
   "pygments_lexer": "ipython3",
   "version": "3.12.3"
  }
 },
 "nbformat": 4,
 "nbformat_minor": 2
}
